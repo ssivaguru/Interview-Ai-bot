{
 "cells": [
  {
   "cell_type": "code",
   "execution_count": 1,
   "metadata": {},
   "outputs": [
    {
     "name": "stderr",
     "output_type": "stream",
     "text": [
      "Using TensorFlow backend.\n"
     ]
    }
   ],
   "source": [
    "import pandas as pd #reading csv fiel\n",
    "import numpy as np #array manupulation\n",
    "import matplotlib.pyplot as plt #plotting figures\n",
    "from keras.models import Sequential\n",
    "from keras.layers import BatchNormalization, Conv2D, Activation, MaxPooling2D, Dense, GlobalAveragePooling2D, Dropout, Flatten\n",
    "from keras import optimizers\n",
    "from sklearn.pipeline import make_pipeline\n",
    "from sklearn.preprocessing import MinMaxScaler\n",
    "from tqdm import tqdm"
   ]
  },
  {
   "cell_type": "code",
   "execution_count": 2,
   "metadata": {},
   "outputs": [],
   "source": [
    "train = pd.read_csv(\"fer2013/fer2013.csv\")"
   ]
  },
  {
   "cell_type": "code",
   "execution_count": 3,
   "metadata": {},
   "outputs": [
    {
     "name": "stdout",
     "output_type": "stream",
     "text": [
      "<class 'pandas.core.frame.DataFrame'>\n",
      "RangeIndex: 35887 entries, 0 to 35886\n",
      "Data columns (total 3 columns):\n",
      "emotion    35887 non-null int64\n",
      "pixels     35887 non-null object\n",
      "Usage      35887 non-null object\n",
      "dtypes: int64(1), object(2)\n",
      "memory usage: 841.2+ KB\n"
     ]
    }
   ],
   "source": [
    "train.info()"
   ]
  },
  {
   "cell_type": "raw",
   "metadata": {},
   "source": []
  },
  {
   "cell_type": "code",
   "execution_count": 4,
   "metadata": {},
   "outputs": [
    {
     "data": {
      "text/plain": [
       "str"
      ]
     },
     "execution_count": 4,
     "metadata": {},
     "output_type": "execute_result"
    }
   ],
   "source": [
    "type(train.pixels[0])"
   ]
  },
  {
   "cell_type": "code",
   "execution_count": 5,
   "metadata": {},
   "outputs": [],
   "source": [
    "#pixel values are of type string have to coemverte em to integet before reshaping"
   ]
  },
  {
   "cell_type": "code",
   "execution_count": 30,
   "metadata": {},
   "outputs": [],
   "source": [
    "from PIL import Image\n",
    "\n",
    "def get_numpy_array(data):\n",
    "    data_image = data.reshape((48, 48))\n",
    "    data_image = Image.fromarray(data_image).convert('L')\n",
    "    data_image = np.array(data_image)[:, :].copy()\n",
    "    return data_image.reshape(48,48,1)\n",
    "\n",
    "def get_data(train_Data):\n",
    "    images = []\n",
    "    emotion = []\n",
    "    for inedx, row in tqdm(train_Data.iterrows()):\n",
    "        split_data = np.fromstring(str(row.pixels), dtype=np.uint8, sep=' ')\n",
    "        imagearray = get_numpy_array(split_data)\n",
    "        imagearray = imagearray/255\n",
    "        images.append(imagearray)\n",
    "        emotion.append(row.emotion)\n",
    "    return np.array(emotion), np.array(images)"
   ]
  },
  {
   "cell_type": "code",
   "execution_count": 31,
   "metadata": {},
   "outputs": [
    {
     "name": "stderr",
     "output_type": "stream",
     "text": [
      "35887it [00:08, 4071.48it/s]\n"
     ]
    }
   ],
   "source": [
    "emotions, images = get_data(train)"
   ]
  },
  {
   "cell_type": "code",
   "execution_count": 32,
   "metadata": {},
   "outputs": [
    {
     "data": {
      "text/plain": [
       "(35887, 48, 48, 1)"
      ]
     },
     "execution_count": 32,
     "metadata": {},
     "output_type": "execute_result"
    }
   ],
   "source": [
    "images.shape"
   ]
  },
  {
   "cell_type": "code",
   "execution_count": 19,
   "metadata": {},
   "outputs": [],
   "source": [
    "def imageConverter(string):\n",
    "    return np.array([int(item) for item in string.split(' ')]).reshape((48, 48))\n",
    "\n",
    "def GetAllImages():\n",
    "    imagearray=[]\n",
    "    for imageString in train['pixels']:\n",
    "        image = imageConverter(imageString)\n",
    "        imagearray.append(image)\n",
    "    return np.array(imagearray)"
   ]
  },
  {
   "cell_type": "code",
   "execution_count": 21,
   "metadata": {},
   "outputs": [],
   "source": [
    "X = np.stack([imageConverter(string) for string in train['pixels']]).astype(np.float)[:, :, :, np.newaxis]"
   ]
  },
  {
   "cell_type": "code",
   "execution_count": 18,
   "metadata": {},
   "outputs": [
    {
     "data": {
      "text/plain": [
       "(35887, 48, 48, 1)"
      ]
     },
     "execution_count": 18,
     "metadata": {},
     "output_type": "execute_result"
    }
   ],
   "source": [
    "X_train =images\n",
    "X_train.shape"
   ]
  },
  {
   "cell_type": "code",
   "execution_count": 23,
   "metadata": {},
   "outputs": [
    {
     "name": "stdout",
     "output_type": "stream",
     "text": [
      "Shape image array =  (35887, 48, 48, 1)\n",
      "shape of emotion array (35887, 1)\n",
      "shape of emotion array (35887, 1)\n",
      "[0 1 2 3 4 5 6]\n"
     ]
    }
   ],
   "source": [
    "print(\"Shape image array = \",X_train.shape)\n",
    "print(\"shape of emotion array\", emotions.shape)\n",
    "emotions = emotions.reshape((emotions.shape[0],1))\n",
    "print(\"shape of emotion array\", emotions.shape)\n",
    "print(np.unique(emotions))"
   ]
  },
  {
   "cell_type": "code",
   "execution_count": 19,
   "metadata": {},
   "outputs": [],
   "source": [
    "import matplotlib.pyplot as plt"
   ]
  },
  {
   "cell_type": "code",
   "execution_count": 20,
   "metadata": {},
   "outputs": [
    {
     "name": "stdout",
     "output_type": "stream",
     "text": [
      "[1. 0. 0. 0. 0. 0. 0.]\n"
     ]
    }
   ],
   "source": [
    "from sklearn.preprocessing import OneHotEncoder\n",
    "\n",
    "onehot_encoder = OneHotEncoder(sparse=False)\n",
    "emotions = emotions.reshape(len(emotions), 1)\n",
    "onehot_encoded = onehot_encoder.fit_transform(emotions)\n",
    "print(onehot_encoded[0])"
   ]
  },
  {
   "cell_type": "code",
   "execution_count": 35,
   "metadata": {},
   "outputs": [],
   "source": [
    "model = Sequential()\n",
    "# input layer\n",
    "model.add(BatchNormalization(input_shape=(48, 48,1)))\n",
    "model.add(Conv2D(12, (2,2), kernel_initializer='he_normal'))\n",
    "model.add(Activation('relu'))\n",
    "model.add(MaxPooling2D(pool_size=(2, 2), strides=(2, 2)))\n",
    "model.add(Dropout(0.1))\n",
    "# layer 2\n",
    "model.add(Conv2D(24, (2, 2)))\n",
    "model.add(Activation('relu'))\n",
    "model.add(MaxPooling2D(pool_size=(2, 2), strides=(2, 2)))\n",
    "model.add(Dropout(0.2))\n",
    "\n",
    "\n",
    "# layer 3\n",
    "model.add(Conv2D(48, (2, 2)))\n",
    "model.add(Activation('relu'))\n",
    "model.add(MaxPooling2D(pool_size=(2, 2), strides=(2, 2)))\n",
    "model.add(Dropout(0.3))\n",
    "\n",
    "\n",
    "# layer 4\n",
    "model.add(Conv2D(96, (2, 2)))\n",
    "model.add(Activation('relu'))\n",
    "model.add(MaxPooling2D(pool_size=(2, 2), strides=(2, 2)))\n",
    "model.add(Dropout(0.4))\n",
    "\n",
    "\n",
    "# layer 5\n",
    "model.add(Conv2D(192, (2, 2)))\n",
    "model.add(Activation('relu'))\n",
    "model.add(Dropout(0.5))\n",
    "\n",
    "model.add(Flatten())\n",
    "\n",
    "# layer 8\n",
    "model.add(Dense(1000, activation=\"relu\"))\n",
    "model.add(Dropout(0.5))\n",
    "# layer 9\n",
    "model.add(Dense(1000, activation=\"relu\"))\n",
    "\n",
    "# layer 10\n",
    "model.add(Dense(7))"
   ]
  },
  {
   "cell_type": "code",
   "execution_count": null,
   "metadata": {},
   "outputs": [
    {
     "name": "stdout",
     "output_type": "stream",
     "text": [
      "Train on 25120 samples, validate on 10767 samples\n",
      "Epoch 1/20\n",
      "25120/25120 [==============================] - 43s 2ms/step - loss: 0.1168 - acc: 0.2628 - val_loss: 0.1140 - val_acc: 0.2909\n",
      "Epoch 2/20\n",
      "25120/25120 [==============================] - 42s 2ms/step - loss: 0.1144 - acc: 0.2928 - val_loss: 0.1130 - val_acc: 0.3000\n",
      "Epoch 3/20\n",
      "25120/25120 [==============================] - 41s 2ms/step - loss: 0.1125 - acc: 0.3068 - val_loss: 0.1078 - val_acc: 0.3369\n",
      "Epoch 4/20\n",
      "25120/25120 [==============================] - 55s 2ms/step - loss: 0.1095 - acc: 0.3356 - val_loss: 0.1031 - val_acc: 0.3798\n",
      "Epoch 5/20\n",
      "25120/25120 [==============================] - 56s 2ms/step - loss: 0.1061 - acc: 0.3643 - val_loss: 0.0993 - val_acc: 0.4271\n",
      "Epoch 6/20\n",
      "25120/25120 [==============================] - 49s 2ms/step - loss: 0.1035 - acc: 0.3862 - val_loss: 0.0968 - val_acc: 0.4464\n",
      "Epoch 7/20\n",
      "25120/25120 [==============================] - 46s 2ms/step - loss: 0.1019 - acc: 0.3984 - val_loss: 0.0968 - val_acc: 0.4242\n",
      "Epoch 8/20\n",
      "25120/25120 [==============================] - 46s 2ms/step - loss: 0.1004 - acc: 0.4101 - val_loss: 0.0954 - val_acc: 0.4416\n",
      "Epoch 9/20\n",
      "25120/25120 [==============================] - 43s 2ms/step - loss: 0.0998 - acc: 0.4172 - val_loss: 0.0943 - val_acc: 0.4616\n",
      "Epoch 10/20\n",
      "25120/25120 [==============================] - 43s 2ms/step - loss: 0.0990 - acc: 0.4217 - val_loss: 0.0938 - val_acc: 0.4686\n",
      "Epoch 11/20\n",
      "25120/25120 [==============================] - 47s 2ms/step - loss: 0.0988 - acc: 0.4252 - val_loss: 0.0939 - val_acc: 0.4735\n",
      "Epoch 12/20\n",
      "16512/25120 [==================>...........] - ETA: 12s - loss: 0.0977 - acc: 0.4334"
     ]
    }
   ],
   "source": [
    "sgd = optimizers.SGD(lr=0.01, decay=1e-6, momentum=0.9, nesterov=True)\n",
    "model.compile(optimizer='adam', loss='mse', metrics=['accuracy'])\n",
    "epochs = 20\n",
    "history = model.fit(X_train, onehot_encoded, validation_split=0.3, shuffle=True, epochs=epochs)"
   ]
  },
  {
   "cell_type": "code",
   "execution_count": null,
   "metadata": {},
   "outputs": [],
   "source": [
    "model.save(\"Emotion_analysis\")"
   ]
  },
  {
   "cell_type": "code",
   "execution_count": null,
   "metadata": {},
   "outputs": [],
   "source": []
  }
 ],
 "metadata": {
  "kernelspec": {
   "display_name": "Python 3",
   "language": "python",
   "name": "python3"
  },
  "language_info": {
   "codemirror_mode": {
    "name": "ipython",
    "version": 3
   },
   "file_extension": ".py",
   "mimetype": "text/x-python",
   "name": "python",
   "nbconvert_exporter": "python",
   "pygments_lexer": "ipython3",
   "version": "3.5.2"
  }
 },
 "nbformat": 4,
 "nbformat_minor": 2
}
